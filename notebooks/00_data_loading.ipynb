{
 "cells": [
  {
   "cell_type": "code",
   "execution_count": 1,
   "id": "d0f02245",
   "metadata": {},
   "outputs": [],
   "source": [
    "import pyedflib\n",
    "import numpy as np\n",
    "import matplotlib.pyplot as plt"
   ]
  },
  {
   "cell_type": "code",
   "execution_count": 16,
   "id": "38b894d0",
   "metadata": {},
   "outputs": [],
   "source": [
    "path = '../data/raw_data/'\n",
    "no_of_subjects = 109\n",
    "Fs = 160\n",
    "no_channels = 64\n",
    "\n",
    "# Set the time at which the signal will be cut. Most of them last around 4.1-4.2 s.\n",
    "# but some of them have to be padded with zeros so that all of them have the same shape.\n",
    "t = 4\n",
    "\n",
    "# This is the actual maximum number of useful chunks a run has (not resting). \n",
    "# Keep in mind most of them will have less and therefore X_separated, y_separated \n",
    "# will have lots of empty occurences. Use X_final and y_final for the actual datapoints\n",
    "max_chunks = 19\n",
    "\n",
    "runs = ['R04','R06','R08','R10','R12','R14']\n",
    "\n",
    "X = np.zeros((no_of_subjects, len(runs), max_chunks, no_channels, t*Fs))\n",
    "targets = np.zeros((no_of_subjects, len(runs), max_chunks), dtype='U2')\n",
    "electrodes = None"
   ]
  },
  {
   "cell_type": "code",
   "execution_count": 17,
   "id": "1e7e38d6",
   "metadata": {},
   "outputs": [],
   "source": [
    "def get_label(annotation, run_name):\n",
    "    if run_name in ['R04', 'R08', 'R12']:\n",
    "        if annotation == 'T1':\n",
    "            return 'L'\n",
    "        elif annotation == 'T2':\n",
    "            return 'R'\n",
    "        else:\n",
    "            return 'error'\n",
    "        \n",
    "    elif run_name in ['R06', 'R10', 'R14']:\n",
    "        if annotation == 'T1':\n",
    "            return 'LR'\n",
    "        elif annotation == 'T2':\n",
    "            return 'F'\n",
    "        else:\n",
    "            return 'error'"
   ]
  },
  {
   "cell_type": "code",
   "execution_count": 18,
   "id": "c4aea187",
   "metadata": {},
   "outputs": [],
   "source": [
    "for subject in range(no_of_subjects):\n",
    "    for run in range(len(runs)):\n",
    "        # Open file\n",
    "        subject_name = f'S{(subject+1):03d}'\n",
    "        run_name = runs[run]\n",
    "        file = pyedflib.EdfReader(path + subject_name + '/' + subject_name + run_name + '.edf')\n",
    "        \n",
    "        # Needed parameters\n",
    "        annotations = file.readAnnotations()[2]\n",
    "        len_chunks = file.readAnnotations()[1] * Fs\n",
    "        chop_times  = file.readAnnotations()[0] * Fs\n",
    "        chunks = min(len(annotations) // 2, max_chunks) ### (only take those chunks with T1 or T2)\n",
    "        \n",
    "        electrodes = file.getSignalLabels()\n",
    "\n",
    "        # Get 2d matrix of signals\n",
    "        signal_2d = np.zeros((file.signals_in_file, file.getNSamples()[0]))\n",
    "        for channel in range(file.signals_in_file):\n",
    "            signal_2d[channel, :] = file.readSignal(channel)\n",
    "        \n",
    "        # Get labels\n",
    "        for i in range(chunks):\n",
    "            targets[subject, run, i] = get_label(annotations[2*i+1], run_name)\n",
    "            chop_time = int(chop_times[2*i+1])\n",
    "            len_chunk = int(len_chunks[2*i+1])\n",
    "            next_chop_time = min(chop_time + len_chunk, chop_time + t*Fs)\n",
    "            # This long function is just in case the signal_2d is shorter than t*Fs, we append 0 until it reaches the size\n",
    "            X[subject, run, i, :, :] = np.append(signal_2d[:, chop_time:next_chop_time], np.zeros((no_channels,max(t*Fs - signal_2d[:, chop_time:next_chop_time].shape[1],0))), axis=1)\n",
    "        \n",
    "        file.close()"
   ]
  },
  {
   "cell_type": "code",
   "execution_count": 19,
   "id": "a65437b4",
   "metadata": {},
   "outputs": [],
   "source": [
    "X_mixed = X.reshape((no_of_subjects*len(runs)*max_chunks, no_channels, t*Fs))\n",
    "targets_mixed = targets.reshape((no_of_subjects*len(runs)*max_chunks))"
   ]
  },
  {
   "cell_type": "code",
   "execution_count": 20,
   "id": "fbeeebcf",
   "metadata": {},
   "outputs": [],
   "source": [
    "# There is some empty records given that not all the signals had the same value of chunks.\n",
    "keep = np.argwhere(targets_mixed != '').flatten()\n",
    "\n",
    "X_final = X_mixed[keep]\n",
    "targets_final = targets_mixed[keep]"
   ]
  },
  {
   "cell_type": "code",
   "execution_count": null,
   "id": "b5774bbf",
   "metadata": {},
   "outputs": [],
   "source": [
    "X_separated = np.zeros((105, 90, no_channels, t * Fs))\n",
    "targets_separated = np.zeros((105, 90), dtype=\"U2\")\n",
    "\n",
    "subject_90 = 0\n",
    "for subject in range(no_of_subjects):\n",
    "    X_temp = X[subject, :, :, :, :].reshape(\n",
    "        (len(runs) * max_chunks, no_channels, t * Fs))\n",
    "    t_temp = targets[subject, :, :].reshape((len(runs) * max_chunks))\n",
    "    keep = np.argwhere(t_temp != '').flatten()\n",
    "\n",
    "    if X_temp[keep].shape[0] == 90:\n",
    "        X_separated[subject_90,:,:,:] = X_temp[keep]\n",
    "        targets_separated[subject_90,:] = t_temp[keep]\n",
    "        subject_90 += 1\n"
   ]
  },
  {
   "cell_type": "code",
   "execution_count": 1,
   "id": "f12961e2",
   "metadata": {},
   "outputs": [],
   "source": [
    "X_separated[0, targets_separated[0] == 'LR',:,:].shape"
   ]
  },
  {
   "cell_type": "code",
   "execution_count": 20,
   "id": "ce088d91",
   "metadata": {},
   "outputs": [],
   "source": [
    "X_ordered = np.zeros((X_separated.shape[0], 84, no_channels, t*Fs))\n",
    "\n",
    "for i, X_slice in enumerate(X_separated):\n",
    "    X_ordered[i,:21,:,:] = X_slice[targets_separated[i] == 'L',:,:][:21, :, :]\n",
    "    X_ordered[i,21:42,:,:] = X_slice[targets_separated[i] == 'R',:,:][:21, :, :]\n",
    "    X_ordered[i,42:63,:,:] = X_slice[targets_separated[i] == 'LR',:,:][:21, :, :]\n",
    "    X_ordered[i,63:84,:,:] = X_slice[targets_separated[i] == 'F',:,:][:21, :, :]\n"
   ]
  },
  {
   "cell_type": "code",
   "execution_count": 10,
   "id": "aa9ad2d5",
   "metadata": {},
   "outputs": [
    {
     "ename": "NameError",
     "evalue": "name 'X_separated' is not defined",
     "output_type": "error",
     "traceback": [
      "\u001b[0;31m---------------------------------------------------------------------------\u001b[0m",
      "\u001b[0;31mNameError\u001b[0m                                 Traceback (most recent call last)",
      "\u001b[0;32m/tmp/ipykernel_3095/2121351565.py\u001b[0m in \u001b[0;36m<module>\u001b[0;34m\u001b[0m\n\u001b[0;32m----> 1\u001b[0;31m \u001b[0mtargets_ordered\u001b[0m \u001b[0;34m=\u001b[0m \u001b[0mnp\u001b[0m\u001b[0;34m.\u001b[0m\u001b[0mrepeat\u001b[0m\u001b[0;34m(\u001b[0m\u001b[0mnp\u001b[0m\u001b[0;34m.\u001b[0m\u001b[0mrepeat\u001b[0m\u001b[0;34m(\u001b[0m\u001b[0;34m[\u001b[0m\u001b[0;34m'L'\u001b[0m\u001b[0;34m,\u001b[0m\u001b[0;34m'R'\u001b[0m\u001b[0;34m,\u001b[0m\u001b[0;34m'LR'\u001b[0m\u001b[0;34m,\u001b[0m\u001b[0;34m'F'\u001b[0m\u001b[0;34m]\u001b[0m\u001b[0;34m,\u001b[0m \u001b[0;36m21\u001b[0m\u001b[0;34m)\u001b[0m\u001b[0;34m.\u001b[0m\u001b[0mreshape\u001b[0m\u001b[0;34m(\u001b[0m\u001b[0;36m1\u001b[0m\u001b[0;34m,\u001b[0m\u001b[0;34m-\u001b[0m\u001b[0;36m1\u001b[0m\u001b[0;34m)\u001b[0m\u001b[0;34m,\u001b[0m\u001b[0mX_separated\u001b[0m\u001b[0;34m.\u001b[0m\u001b[0mshape\u001b[0m\u001b[0;34m[\u001b[0m\u001b[0;36m0\u001b[0m\u001b[0;34m]\u001b[0m\u001b[0;34m,\u001b[0m \u001b[0maxis\u001b[0m\u001b[0;34m=\u001b[0m\u001b[0;36m0\u001b[0m\u001b[0;34m)\u001b[0m\u001b[0;34m\u001b[0m\u001b[0;34m\u001b[0m\u001b[0m\n\u001b[0m\u001b[1;32m      2\u001b[0m \u001b[0mtargets_ordered\u001b[0m\u001b[0;34m.\u001b[0m\u001b[0mshape\u001b[0m\u001b[0;34m\u001b[0m\u001b[0;34m\u001b[0m\u001b[0m\n",
      "\u001b[0;31mNameError\u001b[0m: name 'X_separated' is not defined"
     ]
    }
   ],
   "source": [
    "targets_ordered = np.repeat(np.repeat(['L','R','LR','F'], 21).reshape(1,-1),X_separated.shape[0], axis=0)\n",
    "targets_ordered.shape"
   ]
  }
 ],
 "metadata": {
  "kernelspec": {
   "display_name": "Python 3 (ipykernel)",
   "language": "python",
   "name": "python3"
  },
  "language_info": {
   "codemirror_mode": {
    "name": "ipython",
    "version": 3
   },
   "file_extension": ".py",
   "mimetype": "text/x-python",
   "name": "python",
   "nbconvert_exporter": "python",
   "pygments_lexer": "ipython3",
   "version": "3.8.12"
  }
 },
 "nbformat": 4,
 "nbformat_minor": 5
}
