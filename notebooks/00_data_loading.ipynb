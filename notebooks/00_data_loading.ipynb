{
 "cells": [
  {
   "cell_type": "code",
   "execution_count": 9,
   "id": "d0f02245",
   "metadata": {},
   "outputs": [],
   "source": [
    "import pyedflib\n",
    "import numpy as np\n",
    "import matplotlib.pyplot as plt"
   ]
  },
  {
   "cell_type": "code",
   "execution_count": 10,
   "id": "38b894d0",
   "metadata": {},
   "outputs": [],
   "source": [
    "path = '../data/raw_data/'\n",
    "no_of_subjects = 109\n",
    "Fs = 160\n",
    "no_channels = 64\n",
    "\n",
    "# Set the time at which the signal will be cut. Most of them last around 4.1-4.2 s.\n",
    "# but some of them have to be padded with zeros so that all of them have the same shape.\n",
    "t = 4\n",
    "\n",
    "# This is the actual maximum number of useful chunks a run has (not resting). \n",
    "# Keep in mind most of them will have less and therefore X_separated, y_separated \n",
    "# will have lots of empty occurences. Use X_final and y_final for the actual datapoints\n",
    "max_chunks = 19\n",
    "\n",
    "runs = ['R04','R06','R08','R10','R12','R14']\n",
    "\n",
    "X = np.zeros((no_of_subjects, len(runs), max_chunks, no_channels, t*Fs))\n",
    "targets = np.zeros((no_of_subjects, len(runs), max_chunks), dtype='U2')\n",
    "electrodes = None"
   ]
  },
  {
   "cell_type": "code",
   "execution_count": 11,
   "id": "1e7e38d6",
   "metadata": {},
   "outputs": [],
   "source": [
    "def get_label(annotation, run_name):\n",
    "    if run_name in ['R04', 'R08', 'R12']:\n",
    "        if annotation == 'T1':\n",
    "            return 'L'\n",
    "        elif annotation == 'T2':\n",
    "            return 'R'\n",
    "        else:\n",
    "            return 'error'\n",
    "        \n",
    "    elif run_name in ['R06', 'R10', 'R14']:\n",
    "        if annotation == 'T1':\n",
    "            return 'LR'\n",
    "        elif annotation == 'T2':\n",
    "            return 'F'\n",
    "        else:\n",
    "            return 'error'"
   ]
  },
  {
   "cell_type": "code",
   "execution_count": 12,
   "id": "c4aea187",
   "metadata": {},
   "outputs": [],
   "source": [
    "for subject in range(no_of_subjects):\n",
    "    for run in range(len(runs)):\n",
    "        # Open file\n",
    "        subject_name = f'S{(subject+1):03d}'\n",
    "        run_name = runs[run]\n",
    "        file = pyedflib.EdfReader(path + subject_name + '/' + subject_name + run_name + '.edf')\n",
    "        \n",
    "        # Needed parameters\n",
    "        annotations = file.readAnnotations()[2]\n",
    "        chop_times  = file.readAnnotations()[0] * Fs\n",
    "        chunks = min(len(annotations) // 2, max_chunks) ### (only take those chunks with T1 or T2)\n",
    "        \n",
    "        electrodes = file.getSignalLabels()\n",
    "\n",
    "        # Get 2d matrix of signals\n",
    "        signal_2d = np.zeros((file.signals_in_file, file.getNSamples()[0]))\n",
    "        for channel in range(file.signals_in_file):\n",
    "            signal_2d[channel, :] = file.readSignal(channel)\n",
    "        \n",
    "        # Get labels\n",
    "        for i in range(chunks):\n",
    "            targets[subject, run, i] = get_label(annotations[2*i+1], run_name)\n",
    "            chop_time = int(chop_times[2*i+1])\n",
    "            # This long function is just in case the signal_2d is shorter than t*Fs, we append 0 until it reaches the size\n",
    "            X[subject, run, i, :, :] = np.append(signal_2d[:, chop_time:(chop_time + t*Fs)], np.zeros((no_channels,max(t*Fs - signal_2d[:, chop_time:(chop_time + t*Fs)].shape[1],0))), axis=1)\n",
    "        \n",
    "        file.close()"
   ]
  },
  {
   "cell_type": "code",
   "execution_count": 13,
   "id": "a65437b4",
   "metadata": {},
   "outputs": [],
   "source": [
    "X_separated = X\n",
    "targets_separated = targets\n",
    "\n",
    "X_mixed = X.reshape((no_of_subjects*len(runs)*max_chunks, no_channels, t*Fs))\n",
    "targets_mixed = targets.reshape((no_of_subjects*len(runs)*max_chunks))"
   ]
  },
  {
   "cell_type": "code",
   "execution_count": 16,
   "id": "7c75e7e8",
   "metadata": {},
   "outputs": [
    {
     "data": {
      "text/plain": [
       "(109, 6, 19, 64, 640)"
      ]
     },
     "execution_count": 16,
     "metadata": {},
     "output_type": "execute_result"
    }
   ],
   "source": [
    "X.shape"
   ]
  },
  {
   "cell_type": "code",
   "execution_count": 41,
   "id": "fbeeebcf",
   "metadata": {},
   "outputs": [],
   "source": [
    "# There is some empty records given that not all the signals had the same value of chunks.\n",
    "keep = np.argwhere(targets_mixed != '').flatten()\n",
    "\n",
    "X_final = X_mixed[keep]\n",
    "targets_final = targets_mixed[keep]"
   ]
  },
  {
   "cell_type": "code",
   "execution_count": 44,
   "id": "8739cae0",
   "metadata": {},
   "outputs": [
    {
     "data": {
      "text/plain": [
       "((9838, 64, 640), (9838,))"
      ]
     },
     "execution_count": 44,
     "metadata": {},
     "output_type": "execute_result"
    }
   ],
   "source": [
    "X_final.shape, targets_final.shape"
   ]
  },
  {
   "cell_type": "code",
   "execution_count": null,
   "id": "c33f4cf9",
   "metadata": {},
   "outputs": [],
   "source": []
  }
 ],
 "metadata": {
  "kernelspec": {
   "display_name": "Python 3 (ipykernel)",
   "language": "python",
   "name": "python3"
  },
  "language_info": {
   "codemirror_mode": {
    "name": "ipython",
    "version": 3
   },
   "file_extension": ".py",
   "mimetype": "text/x-python",
   "name": "python",
   "nbconvert_exporter": "python",
   "pygments_lexer": "ipython3",
   "version": "3.8.12"
  }
 },
 "nbformat": 4,
 "nbformat_minor": 5
}
